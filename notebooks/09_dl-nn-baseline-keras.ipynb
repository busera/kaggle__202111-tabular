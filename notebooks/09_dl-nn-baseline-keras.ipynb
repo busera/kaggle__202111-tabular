{
 "cells": [
  {
   "cell_type": "code",
   "execution_count": 1,
   "id": "72c62cc0",
   "metadata": {
    "_cell_guid": "b1076dfc-b9ad-4769-8c92-a6c4dae69d19",
    "_kg_hide-input": true,
    "_uuid": "8f2839f25d086af736a60e9eeb907d3b93b6e0e5",
    "execution": {
     "iopub.execute_input": "2021-11-09T12:47:51.146468Z",
     "iopub.status.busy": "2021-11-09T12:47:51.144630Z",
     "iopub.status.idle": "2021-11-09T12:47:55.859940Z",
     "shell.execute_reply": "2021-11-09T12:47:55.858869Z",
     "shell.execute_reply.started": "2021-11-09T08:07:06.148996Z"
    },
    "papermill": {
     "duration": 4.733073,
     "end_time": "2021-11-09T12:47:55.860114",
     "exception": false,
     "start_time": "2021-11-09T12:47:51.127041",
     "status": "completed"
    },
    "tags": []
   },
   "outputs": [
    {
     "data": {
      "text/html": [
       "<style type='text/css'>\n",
       ".datatable table.frame { margin-bottom: 0; }\n",
       ".datatable table.frame thead { border-bottom: none; }\n",
       ".datatable table.frame tr.coltypes td {  color: #FFFFFF;  line-height: 6px;  padding: 0 0.5em;}\n",
       ".datatable .bool    { background: #DDDD99; }\n",
       ".datatable .object  { background: #565656; }\n",
       ".datatable .int     { background: #5D9E5D; }\n",
       ".datatable .float   { background: #4040CC; }\n",
       ".datatable .str     { background: #CC4040; }\n",
       ".datatable .time    { background: #40CC40; }\n",
       ".datatable .row_index {  background: var(--jp-border-color3);  border-right: 1px solid var(--jp-border-color0);  color: var(--jp-ui-font-color3);  font-size: 9px;}\n",
       ".datatable .frame tbody td { text-align: left; }\n",
       ".datatable .frame tr.coltypes .row_index {  background: var(--jp-border-color0);}\n",
       ".datatable th:nth-child(2) { padding-left: 12px; }\n",
       ".datatable .hellipsis {  color: var(--jp-cell-editor-border-color);}\n",
       ".datatable .vellipsis {  background: var(--jp-layout-color0);  color: var(--jp-cell-editor-border-color);}\n",
       ".datatable .na {  color: var(--jp-cell-editor-border-color);  font-size: 80%;}\n",
       ".datatable .sp {  opacity: 0.25;}\n",
       ".datatable .footer { font-size: 9px; }\n",
       ".datatable .frame_dimensions {  background: var(--jp-border-color3);  border-top: 1px solid var(--jp-border-color0);  color: var(--jp-ui-font-color3);  display: inline-block;  opacity: 0.6;  padding: 1px 10px 1px 5px;}\n",
       "</style>\n"
      ],
      "text/plain": [
       "<IPython.core.display.HTML object>"
      ]
     },
     "metadata": {},
     "output_type": "display_data"
    }
   ],
   "source": [
    "import os\n",
    "import numpy as np\n",
    "import pandas as pd\n",
    "import matplotlib.pyplot as plt\n",
    "import seaborn as sns\n",
    "import datatable as dt\n",
    "import tensorflow as tf\n",
    "from tensorflow import keras\n",
    "from warnings import filterwarnings\n",
    "filterwarnings('ignore')\n",
    "os.environ['TF_CPP_MIN_LOG_LEVEL'] = '3'"
   ]
  },
  {
   "cell_type": "code",
   "execution_count": 2,
   "id": "b391e2ae",
   "metadata": {
    "execution": {
     "iopub.execute_input": "2021-11-09T12:47:55.886900Z",
     "iopub.status.busy": "2021-11-09T12:47:55.885262Z",
     "iopub.status.idle": "2021-11-09T12:47:55.887497Z",
     "shell.execute_reply": "2021-11-09T12:47:55.887935Z",
     "shell.execute_reply.started": "2021-11-09T08:07:06.15667Z"
    },
    "papermill": {
     "duration": 0.016482,
     "end_time": "2021-11-09T12:47:55.888072",
     "exception": false,
     "start_time": "2021-11-09T12:47:55.871590",
     "status": "completed"
    },
    "tags": []
   },
   "outputs": [],
   "source": [
    "### set seeds\n",
    "my_seed = 1\n",
    "\n",
    "np.random.seed(my_seed)\n",
    "tf.random.set_seed(my_seed)"
   ]
  },
  {
   "cell_type": "markdown",
   "id": "22ce2498",
   "metadata": {
    "papermill": {
     "duration": 0.009915,
     "end_time": "2021-11-09T12:47:55.907841",
     "exception": false,
     "start_time": "2021-11-09T12:47:55.897926",
     "status": "completed"
    },
    "tags": []
   },
   "source": [
    "## <span style=\"background:#818181;padding:0.3em;width:100%;display:block;border-radius:0.1em;color:white;font-family:Monospace\">Introduction</span>"
   ]
  },
  {
   "cell_type": "markdown",
   "id": "29d3b886",
   "metadata": {
    "papermill": {
     "duration": 0.009495,
     "end_time": "2021-11-09T12:47:55.927142",
     "exception": false,
     "start_time": "2021-11-09T12:47:55.917647",
     "status": "completed"
    },
    "tags": []
   },
   "source": [
    "<div style=\"font-size: 1em; font-family: Verdana\">\n",
    "    <b>Hi,</b><br><br>\n",
    "    I just wanted to share my baseline-model with you guys.<br>\n",
    "    I've just recently started getting into 'deep learning' and read a lot of basics.<br>\n",
    "    This is the reason why I decided to use this month competition to get some practice with Neural-Networks.<br><br>\n",
    "    Also make sure to check out my EDA for TPS November 2021 <a href=\"https://www.kaggle.com/mlanhenke/tps-11-simple-basic-eda\">here</a>. <br><br>\n",
    "    <em>If you like this notebook or copy any parts of it please make sure to leave an upvote...</em><br><br>\n",
    "    <em><b>Thanks for taking some time to stop by and read my notebook!</b></em>\n",
    "</div>\n",
    "\n"
   ]
  },
  {
   "cell_type": "markdown",
   "id": "6b56762c",
   "metadata": {
    "papermill": {
     "duration": 0.009637,
     "end_time": "2021-11-09T12:47:55.946895",
     "exception": false,
     "start_time": "2021-11-09T12:47:55.937258",
     "status": "completed"
    },
    "tags": []
   },
   "source": [
    "## <span style=\"background:#818181;padding:0.3em;width:100%;display:block;border-radius:0.1em;color:white;font-family:Monospace\">Import Data & Pre-Processing</span>"
   ]
  },
  {
   "cell_type": "code",
   "execution_count": 3,
   "id": "bcf0cdf1",
   "metadata": {
    "execution": {
     "iopub.execute_input": "2021-11-09T12:47:55.973271Z",
     "iopub.status.busy": "2021-11-09T12:47:55.972584Z",
     "iopub.status.idle": "2021-11-09T12:48:08.831564Z",
     "shell.execute_reply": "2021-11-09T12:48:08.830722Z",
     "shell.execute_reply.started": "2021-11-09T08:07:06.184146Z"
    },
    "papermill": {
     "duration": 12.875018,
     "end_time": "2021-11-09T12:48:08.831725",
     "exception": false,
     "start_time": "2021-11-09T12:47:55.956707",
     "status": "completed"
    },
    "tags": []
   },
   "outputs": [],
   "source": [
    "from sklearn.preprocessing import StandardScaler, MinMaxScaler, RobustScaler\n",
    "\n",
    "### load dataframes\n",
    "df_train = dt.fread('../input/tabular-playground-series-nov-2021/train.csv').to_pandas()\n",
    "df_test = dt.fread('../input/tabular-playground-series-nov-2021/test.csv').to_pandas()\n",
    "\n",
    "sample_submission = pd.read_csv('../input/tabular-playground-series-nov-2021/sample_submission.csv')\n",
    "\n",
    "### split into X, y\n",
    "X = df_train.drop(columns=['id','target']).copy()\n",
    "y = df_train['target'].copy()\n",
    "\n",
    "X_test = df_test.drop(columns='id').copy()\n",
    "\n",
    "### standardize data\n",
    "scaler = StandardScaler()\n",
    "# scaler = MinMaxScaler()\n",
    "# scaler = RobustScaler()\n",
    "\n",
    "X = pd.DataFrame(columns=X.columns, data=scaler.fit_transform(X))\n",
    "X_test = pd.DataFrame(columns=X_test.columns, data=scaler.transform(X_test))"
   ]
  },
  {
   "cell_type": "markdown",
   "id": "0e4889c0",
   "metadata": {
    "papermill": {
     "duration": 0.009721,
     "end_time": "2021-11-09T12:48:08.851625",
     "exception": false,
     "start_time": "2021-11-09T12:48:08.841904",
     "status": "completed"
    },
    "tags": []
   },
   "source": [
    "## <span style=\"background:#818181;padding:0.3em;width:100%;display:block;border-radius:0.1em;color:white;font-family:Monospace\">Modeling</span>"
   ]
  },
  {
   "cell_type": "code",
   "execution_count": 4,
   "id": "5f757cf9",
   "metadata": {
    "_kg_hide-input": true,
    "execution": {
     "iopub.execute_input": "2021-11-09T12:48:09.004879Z",
     "iopub.status.busy": "2021-11-09T12:48:09.003837Z",
     "iopub.status.idle": "2021-11-09T12:48:09.007793Z",
     "shell.execute_reply": "2021-11-09T12:48:09.008213Z",
     "shell.execute_reply.started": "2021-11-09T08:07:11.906658Z"
    },
    "papermill": {
     "duration": 0.147011,
     "end_time": "2021-11-09T12:48:09.008361",
     "exception": false,
     "start_time": "2021-11-09T12:48:08.861350",
     "status": "completed"
    },
    "tags": []
   },
   "outputs": [
    {
     "name": "stdout",
     "output_type": "stream",
     "text": [
      "Tensorflow Number of GPUs Available:  1\n"
     ]
    }
   ],
   "source": [
    "### check gpu before training\n",
    "print(\"Tensorflow Number of GPUs Available: \", len(tf.config.list_physical_devices('GPU')))"
   ]
  },
  {
   "cell_type": "code",
   "execution_count": 5,
   "id": "eecce0ae",
   "metadata": {
    "_kg_hide-input": true,
    "execution": {
     "iopub.execute_input": "2021-11-09T12:48:09.035227Z",
     "iopub.status.busy": "2021-11-09T12:48:09.034692Z",
     "iopub.status.idle": "2021-11-09T12:48:10.003613Z",
     "shell.execute_reply": "2021-11-09T12:48:10.003065Z",
     "shell.execute_reply.started": "2021-11-09T08:07:11.915737Z"
    },
    "papermill": {
     "duration": 0.984655,
     "end_time": "2021-11-09T12:48:10.003808",
     "exception": false,
     "start_time": "2021-11-09T12:48:09.019153",
     "status": "completed"
    },
    "tags": []
   },
   "outputs": [],
   "source": [
    "from tensorflow.keras.callbacks import EarlyStopping, ReduceLROnPlateau\n",
    "\n",
    "### define callbacks\n",
    "early_stopping = EarlyStopping(\n",
    "    monitor='val_loss', \n",
    "    min_delta=0, \n",
    "    patience=20, \n",
    "    verbose=0,\n",
    "    mode='min', \n",
    "    baseline=None, \n",
    "    restore_best_weights=True\n",
    ")\n",
    "\n",
    "reduce_lr = ReduceLROnPlateau(\n",
    "    monitor='val_loss', \n",
    "    factor=0.2,\n",
    "    patience=5,\n",
    "    mode='min'\n",
    ")"
   ]
  },
  {
   "cell_type": "code",
   "execution_count": 6,
   "id": "0326f087",
   "metadata": {
    "execution": {
     "iopub.execute_input": "2021-11-09T12:48:10.033224Z",
     "iopub.status.busy": "2021-11-09T12:48:10.032226Z",
     "iopub.status.idle": "2021-11-09T12:48:10.036206Z",
     "shell.execute_reply": "2021-11-09T12:48:10.035799Z",
     "shell.execute_reply.started": "2021-11-09T08:07:11.923891Z"
    },
    "papermill": {
     "duration": 0.021832,
     "end_time": "2021-11-09T12:48:10.036327",
     "exception": false,
     "start_time": "2021-11-09T12:48:10.014495",
     "status": "completed"
    },
    "tags": []
   },
   "outputs": [],
   "source": [
    "from tensorflow.keras import Sequential, Model\n",
    "from tensorflow.keras.regularizers import l2\n",
    "from tensorflow.keras.layers import Dense, Flatten, InputLayer, Dropout, Input\n",
    "\n",
    "### create baseline-model\n",
    "def get_model():\n",
    "    inp = Input(shape=X.shape[1], name='input')\n",
    "    h = Dense(128, activation='swish')(inp)\n",
    "    h = Dropout(0.25)(h)\n",
    "    h = Dense(64, activation='swish')(h)\n",
    "    h = Dropout(0.25)(h)\n",
    "    h = Dense(32, activation='swish')(h)\n",
    "    h = Dropout(0.25)(h)\n",
    "    h = Dense(1, activation='sigmoid')(h)\n",
    "    \n",
    "    model = Model(inputs=inp, outputs=h)\n",
    "    model.compile(\n",
    "        optimizer=tf.keras.optimizers.Adam(learning_rate=1e-3),\n",
    "        loss=tf.keras.losses.BinaryCrossentropy(label_smoothing=1e-3),\n",
    "        metrics=['AUC']\n",
    "    )\n",
    "    return model"
   ]
  },
  {
   "cell_type": "code",
   "execution_count": 7,
   "id": "b196e9b8",
   "metadata": {
    "execution": {
     "iopub.execute_input": "2021-11-09T12:48:10.066331Z",
     "iopub.status.busy": "2021-11-09T12:48:10.065724Z",
     "iopub.status.idle": "2021-11-09T13:11:32.802946Z",
     "shell.execute_reply": "2021-11-09T13:11:32.803397Z",
     "shell.execute_reply.started": "2021-11-09T08:07:11.935109Z"
    },
    "papermill": {
     "duration": 1402.757051,
     "end_time": "2021-11-09T13:11:32.803578",
     "exception": false,
     "start_time": "2021-11-09T12:48:10.046527",
     "status": "completed"
    },
    "tags": []
   },
   "outputs": [
    {
     "name": "stdout",
     "output_type": "stream",
     "text": [
      "****************************************\n",
      "Fold 1 || Training\n",
      "****************************************\n",
      "Fold 1 || Max Validation AUC: 0.7581446766853333\n",
      "****************************************\n",
      "Fold 2 || Training\n",
      "****************************************\n",
      "Fold 2 || Max Validation AUC: 0.7572360634803772\n",
      "****************************************\n",
      "Fold 3 || Training\n",
      "****************************************\n",
      "Fold 3 || Max Validation AUC: 0.7573248147964478\n",
      "****************************************\n",
      "Fold 4 || Training\n",
      "****************************************\n",
      "Fold 4 || Max Validation AUC: 0.7566503286361694\n",
      "****************************************\n",
      "Fold 5 || Training\n",
      "****************************************\n",
      "Fold 5 || Max Validation AUC: 0.7584970593452454\n",
      "****************************************\n",
      "Fold 6 || Training\n",
      "****************************************\n",
      "Fold 6 || Max Validation AUC: 0.7566496729850769\n",
      "****************************************\n",
      "Fold 7 || Training\n",
      "****************************************\n",
      "Fold 7 || Max Validation AUC: 0.7583463191986084\n",
      "****************************************\n",
      "Fold 8 || Training\n",
      "****************************************\n",
      "Fold 8 || Max Validation AUC: 0.7519180774688721\n",
      "****************************************\n",
      "Fold 9 || Training\n",
      "****************************************\n",
      "Fold 9 || Max Validation AUC: 0.7584306597709656\n",
      "****************************************\n",
      "Fold 10 || Training\n",
      "****************************************\n",
      "Fold 10 || Max Validation AUC: 0.7567762732505798\n",
      "****************************************\n",
      "Finished Training\n",
      "****************************************\n",
      "Overall Mean AUC:  0.7569973945617676\n"
     ]
    }
   ],
   "source": [
    "from sklearn.model_selection import StratifiedKFold\n",
    "\n",
    "EPOCHS = 100\n",
    "BATCH_SIZE = 1024\n",
    "VERBOSE = 0\n",
    "N_SPLITS = 10\n",
    "\n",
    "### cross-validation \n",
    "cv = StratifiedKFold(n_splits=N_SPLITS, shuffle=True, random_state=my_seed)\n",
    "\n",
    "scores = {fold:None for fold in range(cv.n_splits)}\n",
    "predictions = []\n",
    "\n",
    "for fold, (idx_train, idx_valid) in enumerate(cv.split(X, y)):\n",
    "    X_train, y_train = X.iloc[idx_train], y.iloc[idx_train]\n",
    "    X_valid, y_valid = X.iloc[idx_valid], y.iloc[idx_valid]\n",
    "\n",
    "    model = get_model()\n",
    "\n",
    "    print('**'*20)\n",
    "    print(f\"Fold {fold+1} || Training\")\n",
    "    print('**'*20)\n",
    "    \n",
    "    history = model.fit(\n",
    "        X_train, y_train,\n",
    "        validation_data=(X_valid, y_valid),\n",
    "        batch_size=BATCH_SIZE,\n",
    "        epochs=EPOCHS,\n",
    "        verbose=VERBOSE,\n",
    "        callbacks=[\n",
    "            early_stopping,\n",
    "            reduce_lr\n",
    "        ]\n",
    "    )\n",
    "    \n",
    "    scores[fold] = (history.history)\n",
    "    \n",
    "    print(f\"Fold {fold+1} || Max Validation AUC: {np.max(scores[fold]['val_auc'])}\")\n",
    "    \n",
    "    prediction = model.predict(X_test, batch_size=BATCH_SIZE).reshape(1,-1)[0]\n",
    "    predictions.append(prediction)\n",
    "\n",
    "print('**'*20)\n",
    "print('Finished Training')\n",
    "print('**'*20)\n",
    "\n",
    "overall_auc = [np.max(scores[fold]['val_auc']) for fold in range(cv.n_splits)]\n",
    "print('Overall Mean AUC: ', np.mean(overall_auc))"
   ]
  },
  {
   "cell_type": "markdown",
   "id": "1f8e8afb",
   "metadata": {
    "papermill": {
     "duration": 0.015545,
     "end_time": "2021-11-09T13:11:32.835038",
     "exception": false,
     "start_time": "2021-11-09T13:11:32.819493",
     "status": "completed"
    },
    "tags": []
   },
   "source": [
    "## <span style=\"background:#818181;padding:0.3em;width:100%;display:block;border-radius:0.1em;color:white;font-family:Monospace\">Evaluation</span>"
   ]
  },
  {
   "cell_type": "code",
   "execution_count": 8,
   "id": "ed92e40c",
   "metadata": {
    "_kg_hide-input": true,
    "execution": {
     "iopub.execute_input": "2021-11-09T13:11:32.886157Z",
     "iopub.status.busy": "2021-11-09T13:11:32.885243Z",
     "iopub.status.idle": "2021-11-09T13:11:35.956565Z",
     "shell.execute_reply": "2021-11-09T13:11:35.957041Z",
     "shell.execute_reply.started": "2021-11-09T08:28:20.947522Z"
    },
    "papermill": {
     "duration": 3.10658,
     "end_time": "2021-11-09T13:11:35.957221",
     "exception": false,
     "start_time": "2021-11-09T13:11:32.850641",
     "status": "completed"
    },
    "tags": []
   },
   "outputs": [
    {
     "data": {
      "image/png": "[encoded data removed]",
      "text/plain": [
       "<Figure size 1440x360 with 10 Axes>"
      ]
     },
     "metadata": {
      "needs_background": "light"
     },
     "output_type": "display_data"
    }
   ],
   "source": [
    "### plot train and valid loss over number of epochs\n",
    "fig, ax = plt.subplots(2, 5, tight_layout=True, figsize=(20,5))\n",
    "ax = ax.flatten()\n",
    "\n",
    "for fold in range(cv.n_splits):\n",
    "    df_eval = pd.DataFrame({'train_loss': scores[fold]['loss'], 'valid_loss': scores[fold]['val_loss']})\n",
    "\n",
    "    min_train = np.round(np.min(df_eval['train_loss']),5)\n",
    "    min_valid = np.round(np.min(df_eval['valid_loss']),5)\n",
    "    delta = np.round(min_valid - min_train,5)\n",
    "    \n",
    "    sns.lineplot(\n",
    "        x=df_eval.index,\n",
    "        y=df_eval['train_loss'],\n",
    "        label='train_loss',\n",
    "        ax = ax[fold]\n",
    "    )\n",
    "\n",
    "    sns.lineplot(\n",
    "        x=df_eval.index,\n",
    "        y=df_eval['valid_loss'],\n",
    "        label='valid_loss',\n",
    "        ax = ax[fold]\n",
    "    )\n",
    "    \n",
    "    ax[fold].set_ylabel('')\n",
    "    ax[fold].set_xlabel(f\"Fold {fold+1}\\nmin_train: {min_train}\\nmin_valid: {min_valid}\\ndelta: {delta}\", fontstyle='italic')\n",
    "\n",
    "sns.despine()"
   ]
  },
  {
   "cell_type": "markdown",
   "id": "99faefe9",
   "metadata": {
    "papermill": {
     "duration": 0.017686,
     "end_time": "2021-11-09T13:11:35.992966",
     "exception": false,
     "start_time": "2021-11-09T13:11:35.975280",
     "status": "completed"
    },
    "tags": []
   },
   "source": [
    "## <span style=\"background:#818181;padding:0.3em;width:100%;display:block;border-radius:0.1em;color:white;font-family:Monospace\">Submission</span>"
   ]
  },
  {
   "cell_type": "code",
   "execution_count": 9,
   "id": "6b7a6395",
   "metadata": {
    "execution": {
     "iopub.execute_input": "2021-11-09T13:11:36.034419Z",
     "iopub.status.busy": "2021-11-09T13:11:36.033191Z",
     "iopub.status.idle": "2021-11-09T13:11:37.432767Z",
     "shell.execute_reply": "2021-11-09T13:11:37.432186Z",
     "shell.execute_reply.started": "2021-11-09T08:28:22.225607Z"
    },
    "papermill": {
     "duration": 1.422234,
     "end_time": "2021-11-09T13:11:37.432933",
     "exception": false,
     "start_time": "2021-11-09T13:11:36.010699",
     "status": "completed"
    },
    "tags": []
   },
   "outputs": [],
   "source": [
    "### average predictions over each fold and create submission file\n",
    "sample_submission['target'] = np.mean(np.column_stack(predictions), axis=1)\n",
    "sample_submission.to_csv('./nn_baseline.csv', index=False)"
   ]
  }
 ],
 "metadata": {
  "kernelspec": {
   "display_name": "Python 3",
   "language": "python",
   "name": "python3"
  },
  "language_info": {
   "codemirror_mode": {
    "name": "ipython",
    "version": 3
   },
   "file_extension": ".py",
   "mimetype": "text/x-python",
   "name": "python",
   "nbconvert_exporter": "python",
   "pygments_lexer": "ipython3",
   "version": "3.7.10"
  },
  "papermill": {
   "default_parameters": {},
   "duration": 1438.052188,
   "end_time": "2021-11-09T13:11:41.050176",
   "environment_variables": {},
   "exception": null,
   "input_path": "__notebook__.ipynb",
   "output_path": "__notebook__.ipynb",
   "parameters": {},
   "start_time": "2021-11-09T12:47:42.997988",
   "version": "2.3.3"
  }
 },
 "nbformat": 4,
 "nbformat_minor": 5
}
