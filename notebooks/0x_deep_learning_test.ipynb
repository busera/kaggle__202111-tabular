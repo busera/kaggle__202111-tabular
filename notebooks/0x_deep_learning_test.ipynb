{
 "cells": [
  {
   "cell_type": "code",
   "execution_count": 1,
   "metadata": {},
   "outputs": [],
   "source": [
    "import os # for detecting CPU cores\n",
    "import configparser # to load standard config and parameters\n",
    "import pandas as pd\n",
    "import matplotlib.pyplot as plt\n",
    "import warnings\n",
    "\n",
    "warnings.filterwarnings('ignore')\n",
    "%load_ext watermark\n",
    "%matplotlib inline\n"
   ]
  },
  {
   "cell_type": "code",
   "execution_count": 2,
   "metadata": {},
   "outputs": [
    {
     "name": "stdout",
     "output_type": "stream",
     "text": [
      "Number of CPUs used: 8\n"
     ]
    }
   ],
   "source": [
    "# Load external config file\n",
    "config = configparser.ConfigParser()\n",
    "config.read(\"../src/config.ini\")\n",
    "\n",
    "PATH_DATA_RAW = config[\"PATHS\"][\"PATH_DATA_RAW\"]\n",
    "PATH_DATA_INT = config[\"PATHS\"][\"PATH_DATA_INT\"]\n",
    "PATH_DATA_PRO = config[\"PATHS\"][\"PATH_DATA_PRO\"]\n",
    "PATH_REPORTS = config[\"PATHS\"][\"PATH_REPORTS\"]\n",
    "PATH_MODELS = config[\"PATHS\"][\"PATH_MODELS\"]\n",
    "PATH_SUB = config[\"PATHS\"][\"PATH_SUB\"]\n",
    "\n",
    "# Telegram Bot\n",
    "token = config[\"TELEGRAM\"][\"token\"]\n",
    "chat_id = config[\"TELEGRAM\"][\"chat_id\"]\n",
    "FILENAME_NB = \"0x_deep_learning_test\" # for Telegram messages\n",
    "\n",
    "# Set global randome state\n",
    "rnd_state = 42\n",
    "\n",
    "# Define available cpu cores\n",
    "n_cpu = os.cpu_count()\n",
    "print(\"Number of CPUs used:\", n_cpu)"
   ]
  },
  {
   "cell_type": "code",
   "execution_count": 3,
   "metadata": {},
   "outputs": [],
   "source": [
    "train_df = pd.read_pickle(PATH_DATA_INT+'train-opt.pkl')\n",
    "test_df = pd.read_pickle(PATH_DATA_INT+'test-opt.pkl')\n",
    "sample_df = pd.read_csv(PATH_DATA_RAW+'sample_submission.csv')"
   ]
  },
  {
   "cell_type": "code",
   "execution_count": 4,
   "metadata": {},
   "outputs": [],
   "source": [
    "features_num = train_df.drop(['id','target'], axis=1).columns\n",
    "X = train_df.drop(['id','target'], axis=1).copy()\n",
    "y = train_df['target'].copy()\n",
    "\n",
    "X_test = test_df.drop(['id'], axis=1).copy()\n"
   ]
  },
  {
   "cell_type": "code",
   "execution_count": 5,
   "metadata": {},
   "outputs": [
    {
     "name": "stdout",
     "output_type": "stream",
     "text": [
      "[100]\n"
     ]
    }
   ],
   "source": [
    "from sklearn.model_selection import train_test_split\n",
    "from sklearn.preprocessing import StandardScaler, OneHotEncoder\n",
    "from sklearn.impute import SimpleImputer\n",
    "from sklearn.pipeline import make_pipeline\n",
    "from sklearn.compose import make_column_transformer\n",
    "\n",
    "transformer_num = make_pipeline(\n",
    "    StandardScaler(),\n",
    ")\n",
    "\n",
    "preprocessor = make_column_transformer(\n",
    "    (transformer_num, features_num),\n",
    ")\n",
    "\n",
    "# stratify - make sure classes are evenlly represented across splits\n",
    "X_train, X_valid, y_train, y_valid = train_test_split(X, y, stratify=y, train_size=0.75)\n",
    "\n",
    "X_train = preprocessor.fit_transform(X_train)\n",
    "X_valid = preprocessor.transform(X_valid)\n",
    "X_test = preprocessor.transform(X_test)\n",
    "\n",
    "input_shape = [X_train.shape[1]]\n",
    "print(input_shape)"
   ]
  },
  {
   "cell_type": "code",
   "execution_count": 6,
   "metadata": {},
   "outputs": [],
   "source": [
    "import gc\n",
    "from tensorflow import keras\n",
    "from tensorflow.keras import layers\n",
    "from tensorflow.keras.callbacks import EarlyStopping"
   ]
  },
  {
   "cell_type": "code",
   "execution_count": 8,
   "metadata": {},
   "outputs": [
    {
     "name": "stdout",
     "output_type": "stream",
     "text": [
      "Model: \"sequential_1\"\n",
      "_________________________________________________________________\n",
      " Layer (type)                Output Shape              Param #   \n",
      "=================================================================\n",
      " dense_4 (Dense)             (None, 4)                 404       \n",
      "                                                                 \n",
      " dense_5 (Dense)             (None, 4)                 20        \n",
      "                                                                 \n",
      " dense_6 (Dense)             (None, 1)                 5         \n",
      "                                                                 \n",
      "=================================================================\n",
      "Total params: 429\n",
      "Trainable params: 429\n",
      "Non-trainable params: 0\n",
      "_________________________________________________________________\n"
     ]
    }
   ],
   "source": [
    "import gc\n",
    "from tensorflow import keras\n",
    "from tensorflow.keras import layers\n",
    "from tensorflow.keras.callbacks import EarlyStopping\n",
    "\n",
    "gc.collect()\n",
    "\n",
    "model = keras.Sequential(\n",
    "    [\n",
    "        #layers.BatchNormalization(input_shape=input_shape),\n",
    "        layers.Dense(2, activation=\"relu\", input_shape=input_shape),\n",
    "        layers.Dense(4, activation=\"relu\"),\n",
    "        layers.Dense(2, activation=\"relu\"),\n",
    "        layers.Dense(1, activation=\"sigmoid\"),\n",
    "    ]\n",
    ")\n",
    "\n",
    "model.summary()\n",
    "\n",
    "model.compile(\n",
    "    optimizer=\"sgd\",\n",
    "    #optimizer='adam',\n",
    "    loss=\"binary_crossentropy\",\n",
    "    # metrics=['binary_accuracy'],\n",
    "    metrics=[\"AUC\"],\n",
    ")\n",
    "\n",
    "early_stopping = EarlyStopping(\n",
    "    patience=40, min_delta=0.001, restore_best_weights=True,\n",
    ")\n",
    "\n",
    "history = model.fit(\n",
    "    X_train,\n",
    "    y_train,\n",
    "    validation_data=(X_valid, y_valid),\n",
    "    batch_size=512,\n",
    "    #batch_size=1024,\n",
    "    epochs=1000,\n",
    "    callbacks=[early_stopping],\n",
    "    verbose=0,  # hide the output because we have so many epochs\n",
    ")\n"
   ]
  },
  {
   "cell_type": "code",
   "execution_count": 9,
   "metadata": {},
   "outputs": [
    {
     "name": "stdout",
     "output_type": "stream",
     "text": [
      "Best Validation Loss: 0.564996\n",
      "Best Validation AUC: 0.749912\n"
     ]
    },
    {
     "data": {
      "image/png": "[encoded data removed]",
      "text/plain": [
       "<Figure size 432x288 with 1 Axes>"
      ]
     },
     "metadata": {
      "needs_background": "light"
     },
     "output_type": "display_data"
    },
    {
     "data": {
      "image/png": "[encoded data removed]",
      "text/plain": [
       "<Figure size 432x288 with 1 Axes>"
      ]
     },
     "metadata": {
      "needs_background": "light"
     },
     "output_type": "display_data"
    }
   ],
   "source": [
    "history_df = pd.DataFrame(history.history)\n",
    "# Start the plot at epoch 5\n",
    "history_df.loc[5:, [\"loss\", \"val_loss\"]].plot()\n",
    "history_df.loc[5:, [\"auc\", \"val_auc\"]].plot()\n",
    "\n",
    "print(\n",
    "    (\"Best Validation Loss: {:0.6f}\" + \"\\nBest Validation AUC: {:0.6f}\").format(\n",
    "        history_df[\"val_loss\"].min(), history_df[\"val_auc\"].max()\n",
    "    )\n",
    ")\n",
    "\n",
    "# ADAM:\n",
    "# Best Validation Loss: 0.564178\n",
    "# Best Validation Accuracy: 0.757301\n",
    "\n",
    "# SGD:\n",
    "# Best Validation Loss: 0.565582\n",
    "# Best Validation Accuracy: 0.750882\n"
   ]
  },
  {
   "cell_type": "code",
   "execution_count": 10,
   "metadata": {},
   "outputs": [],
   "source": [
    "preds_test = model.predict(X_test)"
   ]
  },
  {
   "cell_type": "code",
   "execution_count": 11,
   "metadata": {},
   "outputs": [
    {
     "name": "stdout",
     "output_type": "stream",
     "text": [
      "2021-11-09_submission_dl_test.csv\n"
     ]
    }
   ],
   "source": [
    "from datetime import datetime\n",
    "\n",
    "# datetime object containing current date and time\n",
    "now = datetime.now()\n",
    "now = now.strftime(\"%Y-%m-%d\")\n",
    "\n",
    "#mlflow_run_id = str(run.info.run_id)\n",
    "objective = \"dl_test\"\n",
    "\n",
    "curr_submission_fn = f\"{now}_submission_{objective}.csv\"\n",
    "\n",
    "sample_df['target'] = preds_test\n",
    "sample_df.to_csv(PATH_SUB + curr_submission_fn, index=False)\n",
    "\n",
    "print(curr_submission_fn)"
   ]
  },
  {
   "cell_type": "code",
   "execution_count": 12,
   "metadata": {},
   "outputs": [
    {
     "data": {
      "text/html": [
       "<div>\n",
       "<style scoped>\n",
       "    .dataframe tbody tr th:only-of-type {\n",
       "        vertical-align: middle;\n",
       "    }\n",
       "\n",
       "    .dataframe tbody tr th {\n",
       "        vertical-align: top;\n",
       "    }\n",
       "\n",
       "    .dataframe thead th {\n",
       "        text-align: right;\n",
       "    }\n",
       "</style>\n",
       "<table border=\"1\" class=\"dataframe\">\n",
       "  <thead>\n",
       "    <tr style=\"text-align: right;\">\n",
       "      <th></th>\n",
       "      <th>id</th>\n",
       "      <th>target</th>\n",
       "    </tr>\n",
       "  </thead>\n",
       "  <tbody>\n",
       "    <tr>\n",
       "      <th>539995</th>\n",
       "      <td>1139995</td>\n",
       "      <td>0.754631</td>\n",
       "    </tr>\n",
       "    <tr>\n",
       "      <th>539996</th>\n",
       "      <td>1139996</td>\n",
       "      <td>0.752903</td>\n",
       "    </tr>\n",
       "    <tr>\n",
       "      <th>539997</th>\n",
       "      <td>1139997</td>\n",
       "      <td>0.747696</td>\n",
       "    </tr>\n",
       "    <tr>\n",
       "      <th>539998</th>\n",
       "      <td>1139998</td>\n",
       "      <td>0.753363</td>\n",
       "    </tr>\n",
       "    <tr>\n",
       "      <th>539999</th>\n",
       "      <td>1139999</td>\n",
       "      <td>0.750395</td>\n",
       "    </tr>\n",
       "  </tbody>\n",
       "</table>\n",
       "</div>"
      ],
      "text/plain": [
       "             id    target\n",
       "539995  1139995  0.754631\n",
       "539996  1139996  0.752903\n",
       "539997  1139997  0.747696\n",
       "539998  1139998  0.753363\n",
       "539999  1139999  0.750395"
      ]
     },
     "execution_count": 12,
     "metadata": {},
     "output_type": "execute_result"
    }
   ],
   "source": [
    "sample_df.tail()"
   ]
  },
  {
   "cell_type": "code",
   "execution_count": 13,
   "metadata": {},
   "outputs": [],
   "source": [
    "#!kaggle competitions submit tabular-playground-series-nov-2021 -f {PATH_SUB+curr_submission_fn} -m {curr_submission_fn}##"
   ]
  },
  {
   "cell_type": "markdown",
   "metadata": {},
   "source": [
    "## Hyperparameter Tuning w/ Optuna"
   ]
  },
  {
   "cell_type": "code",
   "execution_count": 14,
   "metadata": {},
   "outputs": [],
   "source": [
    "import warnings\n",
    "from icecream import ic\n",
    "import optuna\n",
    "\n",
    "from keras.backend import clear_session\n",
    "from keras.datasets import mnist\n",
    "from keras.layers import Conv2D\n",
    "from keras.layers import Dense\n",
    "from keras.layers import Flatten\n",
    "from keras.models import Sequential\n",
    "from keras.optimizers import adam_v2\n",
    "#from keras.optimizers import RMSprop"
   ]
  },
  {
   "cell_type": "code",
   "execution_count": 15,
   "metadata": {},
   "outputs": [
    {
     "data": {
      "text/plain": [
       "8676"
      ]
     },
     "execution_count": 15,
     "metadata": {},
     "output_type": "execute_result"
    }
   ],
   "source": [
    "gc.collect()"
   ]
  },
  {
   "cell_type": "code",
   "execution_count": 16,
   "metadata": {},
   "outputs": [],
   "source": [
    "N_TRAIN_EXAMPLES = 3000\n",
    "N_VALID_EXAMPLES = 1000\n",
    "BATCHSIZE = 128\n",
    "CLASSES = 10\n",
    "EPOCHS = 10"
   ]
  },
  {
   "cell_type": "code",
   "execution_count": 17,
   "metadata": {},
   "outputs": [],
   "source": [
    "def objective(trial):\n",
    "    # Clear clutter from previous Keras session graphs.\n",
    "    clear_session()\n",
    "\n",
    "    train_df = pd.read_pickle(PATH_DATA_INT + \"train-opt.pkl\")\n",
    "    X = train_df.drop([\"id\", \"target\"], axis=1)\n",
    "    y = train_df[\"target\"]\n",
    "\n",
    "    X_train, X_valid, y_train, y_valid = train_test_split(\n",
    "        X, y, stratify=y, train_size=0.75\n",
    "    )\n",
    "\n",
    "    input_shape = [X_train.shape[1]]\n",
    "    # ic(input_shape)\n",
    "\n",
    "    model = Sequential()\n",
    "\n",
    "    n_layers = trial.suggest_int(\"n_layers\", 1, 4)\n",
    "    learning_rate = trial.suggest_float(\"min_delta\", 0.001, 0.1, log=True)\n",
    "    patience = trial.suggest_int(\"patience\", 20, 100, log=True)\n",
    "    #min_delta = trial.suggest_float(\"min_delta\", 0.001, 0.1, log=True)\n",
    "\n",
    "    # model.add(keras.layers.Flatten())\n",
    "    # model.add(layers.Dense(input_shape=input_shape, activation=\"relu\"))\n",
    "\n",
    "    for i in range(n_layers):\n",
    "        num_hidden = trial.suggest_int(f\"n_units_l{i}\", 4, 128, log=True)\n",
    "        ic(num_hidden)\n",
    "        model.add(layers.Dense(num_hidden, activation=\"relu\", input_shape=input_shape))\n",
    "\n",
    "    # last layer\n",
    "    model.add(Dense(1, activation=\"sigmoid\"))\n",
    "\n",
    "    # optimizer=trial.suggest_categorical(\"activation\", [\"sgd\", \"adam\"]),\n",
    "\n",
    "    model.compile(\n",
    "        loss=\"binary_crossentropy\",\n",
    "        optimizer=keras.optimizers.SGD(learning_rate=learning_rate),\n",
    "        metrics=[\"AUC\"],\n",
    "    )\n",
    "\n",
    "    # ic(patience)\n",
    "\n",
    "    early_stopping = EarlyStopping(\n",
    "        patience=patience, min_delta=learning_rate, restore_best_weights=True,\n",
    "    )\n",
    "\n",
    "    model.fit(\n",
    "        X_train,\n",
    "        y_train,\n",
    "        validation_data=(X_valid, y_valid),\n",
    "        # shuffle=True,\n",
    "        batch_size=512,\n",
    "        # batch_size=1024,\n",
    "        epochs=1000,\n",
    "        callbacks=[early_stopping],\n",
    "        verbose=0,  # hide the output because we have so many epochs\n",
    "    )\n",
    "\n",
    "    # Evaluate the model accuracy on the validation set.\n",
    "    score = model.evaluate(X_valid, y_valid, verbose=0)\n",
    "    return score[1]\n"
   ]
  },
  {
   "cell_type": "code",
   "execution_count": 18,
   "metadata": {},
   "outputs": [
    {
     "name": "stderr",
     "output_type": "stream",
     "text": [
      "\u001b[32m[I 2021-11-09 20:11:06,976]\u001b[0m A new study created in memory with name: no-name-4be0770b-9ff0-4b0f-8838-c9bf03911311\u001b[0m\n",
      "ic| num_hidden: 88\n",
      "ic| num_hidden: 15\n",
      "ic| num_hidden: 34\n",
      "\u001b[32m[I 2021-11-09 20:20:51,895]\u001b[0m Trial 0 finished with value: 0.7276347279548645 and parameters: {'n_layers': 3, 'min_delta': 0.0029252304172142462, 'patience': 49, 'n_units_l0': 88, 'n_units_l1': 15, 'n_units_l2': 34}. Best is trial 0 with value: 0.7276347279548645.\u001b[0m\n",
      "ic| num_hidden: 17\n",
      "ic| num_hidden: 21\n",
      "ic| num_hidden: 6\n"
     ]
    }
   ],
   "source": [
    "study = optuna.create_study(direction=\"maximize\")\n",
    "study.optimize(objective, n_trials=100)\n",
    "\n",
    "print(\"Number of finished trials: {}\".format(len(study.trials)))\n",
    "\n",
    "print(\"Best trial:\")\n",
    "trial = study.best_trial\n",
    "\n",
    "print(\"  Value: {}\".format(trial.value))\n",
    "\n",
    "print(\"  Params: \")\n",
    "for key, value in trial.params.items():\n",
    "    print(\"    {}: {}\".format(key, value))"
   ]
  }
 ],
 "metadata": {
  "interpreter": {
   "hash": "102988cd41447315534c958c58e308e7e3484eb005f63e4d7c4500d870bbba42"
  },
  "kernelspec": {
   "display_name": "Python 3.9.7 64-bit ('kaggle': conda)",
   "language": "python",
   "name": "python3"
  },
  "language_info": {
   "codemirror_mode": {
    "name": "ipython",
    "version": 3
   },
   "file_extension": ".py",
   "mimetype": "text/x-python",
   "name": "python",
   "nbconvert_exporter": "python",
   "pygments_lexer": "ipython3",
   "version": "3.9.7"
  },
  "orig_nbformat": 4
 },
 "nbformat": 4,
 "nbformat_minor": 2
}
